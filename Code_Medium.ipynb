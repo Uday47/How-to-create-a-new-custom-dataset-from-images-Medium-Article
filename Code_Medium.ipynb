{
  "nbformat": 4,
  "nbformat_minor": 0,
  "metadata": {
    "colab": {
      "name": "Code-Medium",
      "provenance": [],
      "collapsed_sections": [],
      "toc_visible": true,
      "authorship_tag": "ABX9TyPVBDjJg4ns+xwKc0O8T0lp",
      "include_colab_link": true
    },
    "kernelspec": {
      "name": "python3",
      "display_name": "Python 3"
    }
  },
  "cells": [
    {
      "cell_type": "markdown",
      "metadata": {
        "id": "view-in-github",
        "colab_type": "text"
      },
      "source": [
        "<a href=\"https://colab.research.google.com/github/Uday47/How-to-create-a-new-custom-dataset-from-images-Medium-Article/blob/master/Code_Medium.ipynb\" target=\"_parent\"><img src=\"https://colab.research.google.com/assets/colab-badge.svg\" alt=\"Open In Colab\"/></a>"
      ]
    },
    {
      "cell_type": "markdown",
      "metadata": {
        "id": "nHbIuov1RJIk",
        "colab_type": "text"
      },
      "source": [
        "### Write images to CSV file"
      ]
    },
    {
      "cell_type": "code",
      "metadata": {
        "id": "WV90kzd12Xsd",
        "colab_type": "code",
        "colab": {
          "base_uri": "https://localhost:8080/",
          "height": 374
        },
        "outputId": "0c9260fd-420d-4548-ef93-f506a62dac57"
      },
      "source": [
        "from PIL import Image\n",
        "import numpy as np\n",
        "import sys\n",
        "import os\n",
        "import csv\n",
        "# default format can be changed as needed\n",
        "def createFileList(myDir, format='.jpg'):\n",
        "    fileList = []\n",
        "    print(myDir)\n",
        "    labels = []\n",
        "    names = []\n",
        "    keywords = {\"K\" : \"1\",\"U\": \"0\",} # keys and values to be changed as needed\n",
        "    for root, dirs, files in os.walk(myDir, topdown=True):\n",
        "        for name in files:\n",
        "            if name.endswith(format):\n",
        "                fullName = os.path.join(root, name)\n",
        "                fileList.append(fullName)\n",
        "            for keyword in keywords:\n",
        "                if keyword in name:\n",
        "                    labels.append(keywords[keyword])\n",
        "                else:\n",
        "                    continue\n",
        "            names.append(name)\n",
        "    return fileList, labels, names\n",
        "# load the original image\n",
        "myFileList, labels, names  = createFileList('/content/Upload/')\n",
        "i = 0\n",
        "for file in myFileList:\n",
        "    print(file)\n",
        "    img_file = Image.open(file)\n",
        "    # img_file.show()\n",
        "# get original image parameters...\n",
        "    width, height = img_file.size\n",
        "    format = img_file.format\n",
        "    mode = img_file.mode\n",
        "# Make image Greyscale\n",
        "    img_grey = img_file.convert('L')\n",
        "    #img_grey.save('result.png')\n",
        "    #img_grey.show()\n",
        "# Save Greyscale values\n",
        "    value = np.asarray(img_grey.getdata(), dtype=np.int).reshape((height , width,))\n",
        "    value = value.flatten()\n",
        "    \n",
        "    value = np.append(value,labels[i])\n",
        "    i +=1\n",
        "    \n",
        "    print(value)\n",
        "    with open(\"Keanu&Uday.csv\", 'a') as f:\n",
        "        writer = csv.writer(f)\n",
        "        writer.writerow(value)\n"
      ],
      "execution_count": 3,
      "outputs": [
        {
          "output_type": "stream",
          "text": [
            "/content/Upload/\n",
            "/content/Upload/Keanu  (4).jpg\n",
            "['195' '197' '199' ... '26' '25' '1']\n",
            "/content/Upload/Uday(5).jpg\n",
            "['78' '56' '77' ... '73' '60' '0']\n",
            "/content/Upload/Uday (2).jpg\n",
            "['11' '9' '10' ... '191' '193' '0']\n",
            "/content/Upload/Keanu (5).jpg\n",
            "['201' '204' '208' ... '140' '139' '1']\n",
            "/content/Upload/Keanu  (1).jpg\n",
            "['255' '254' '255' ... '253' '253' '1']\n",
            "/content/Upload/Uday (1).jpg\n",
            "['237' '238' '235' ... '103' '114' '0']\n",
            "/content/Upload/Uday (3).jpg\n",
            "['232' '232' '232' ... '100' '91' '0']\n",
            "/content/Upload/Keanu  (3).jpg\n",
            "['255' '255' '255' ... '8' '8' '1']\n",
            "/content/Upload/Keanu  (2).jpg\n",
            "['186' '225' '245' ... '83' '91' '1']\n",
            "/content/Upload/Uday (4).jpg\n",
            "['113' '102' '105' ... '99' '62' '0']\n"
          ],
          "name": "stdout"
        }
      ]
    },
    {
      "cell_type": "markdown",
      "metadata": {
        "id": "McZDaGE9RWj5",
        "colab_type": "text"
      },
      "source": [
        "###Load the CSV\n",
        "Note: Load the modified CSV file and not the one that's just been created.\n"
      ]
    },
    {
      "cell_type": "code",
      "metadata": {
        "id": "_ZC_Ysod-5Mh",
        "colab_type": "code",
        "colab": {}
      },
      "source": [
        "import pandas as pd\n",
        "import cv2\n",
        "import numpy as np\n",
        "from sklearn.model_selection import train_test_split\n",
        " \n",
        "dataset_path = '/content/Keanu&Uday.csv'\n",
        "image_size=(48,48) #add 3 if RGB image\n",
        " \n",
        "def load():\n",
        "    data = pd.read_csv(dataset_path)\n",
        "    pixels = data['Pixels'].tolist()\n",
        "    width, height= 48, 48 ,# add depth 3 if RGB image\n",
        "    faces = []\n",
        "    for pixel_sequence in pixels:\n",
        "        face = [int(pixel) for pixel in pixel_sequence.split(' ')]\n",
        "        face = np.asarray(face).reshape(width, height,) #add depth if RGB image\n",
        "        a = face\n",
        "        face = np.resize(face.astype('uint8'),image_size)\n",
        "        faces.append(face.astype('float32'))\n",
        "\n",
        "    faces = np.asarray(faces)\n",
        "    A = faces\n",
        "    faces = np.expand_dims(faces, -1)\n",
        "    return faces, A\n",
        " \n",
        "faces,A = load()"
      ],
      "execution_count": 4,
      "outputs": []
    },
    {
      "cell_type": "markdown",
      "metadata": {
        "id": "ZthK0MUURcVL",
        "colab_type": "text"
      },
      "source": [
        "###Plot images"
      ]
    },
    {
      "cell_type": "code",
      "metadata": {
        "id": "1OoxXSIIKIYG",
        "colab_type": "code",
        "colab": {
          "base_uri": "https://localhost:8080/",
          "height": 286
        },
        "outputId": "0c8ae9b9-928d-4e3c-d9b7-622f6930c9ef"
      },
      "source": [
        "import matplotlib.pyplot as plt\n",
        "plt.figure()\n",
        "\n",
        "#subplot(r,c) provide the no. of rows and columns\n",
        "f, axarr = plt.subplots(A.shape[0],1) \n",
        "# use the created array to output your multiple images. In this case I have stacked 4 images vertically\n",
        "for i in range(A.shape[0]):\n",
        "  axarr[i].imshow(A[i])"
      ],
      "execution_count": 5,
      "outputs": [
        {
          "output_type": "display_data",
          "data": {
            "text/plain": [
              "<Figure size 432x288 with 0 Axes>"
            ]
          },
          "metadata": {
            "tags": []
          }
        },
        {
          "output_type": "display_data",
          "data": {
            "image/png": "[encoded data removed]",
            "text/plain": [
              "<Figure size 432x288 with 10 Axes>"
            ]
          },
          "metadata": {
            "tags": [],
            "needs_background": "light"
          }
        }
      ]
    },
    {
      "cell_type": "code",
      "metadata": {
        "id": "SkqZJPpYKmmN",
        "colab_type": "code",
        "colab": {
          "base_uri": "https://localhost:8080/",
          "height": 284
        },
        "outputId": "7bcf2d78-90fe-4066-ac15-84a0ab58ccb3"
      },
      "source": [
        "plt.imshow(A[0].astype(\"uint8\")) #change the index to plot different picture"
      ],
      "execution_count": 6,
      "outputs": [
        {
          "output_type": "execute_result",
          "data": {
            "text/plain": [
              "<matplotlib.image.AxesImage at 0x7fe38d7d17f0>"
            ]
          },
          "metadata": {
            "tags": []
          },
          "execution_count": 6
        },
        {
          "output_type": "display_data",
          "data": {
            "image/png": "[encoded data removed]",
            "text/plain": [
              "<Figure size 432x288 with 1 Axes>"
            ]
          },
          "metadata": {
            "tags": [],
            "needs_background": "light"
          }
        }
      ]
    }
  ]
}